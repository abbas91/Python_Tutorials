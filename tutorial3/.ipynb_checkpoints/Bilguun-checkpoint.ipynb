{
 "cells": [
  {
   "cell_type": "markdown",
   "metadata": {},
   "source": [
    "<br>\n",
    "# Mars' Python Tutorial 3"
   ]
  },
  {
   "cell_type": "code",
   "execution_count": 1,
   "metadata": {
    "collapsed": true
   },
   "outputs": [],
   "source": [
    "#Review Exercise: Print out the Keys and Values of the following dictionary\n",
    "# in this format: \"My _key_ is very _value_\" \n",
    "to_print = {\n",
    "    \"appple\": \"red\", \n",
    "    \"banana\": \"yellow\",\n",
    "    \"orange\": \"orange\",\n",
    "    \"lemon\" : \"purple\",\n",
    "    \"blueberry\": \"modest\",\n",
    "}\n",
    "for fruit, colour in to_print.items():\n",
    "    print(\"My \" + );"
   ]
  },
  {
   "cell_type": "code",
   "execution_count": 18,
   "metadata": {
    "collapsed": true
   },
   "outputs": [],
   "source": [
    "#Review Exercise: make a function that returns the sum and difference\n",
    "#of the two input numbers (hint: use zip)"
   ]
  },
  {
   "cell_type": "code",
   "execution_count": 2,
   "metadata": {
    "collapsed": true
   },
   "outputs": [
    {
     "data": {
      "text/plain": [
       "['This is my humble attempt, \\n',\n",
       " 'to write a poem again.\\n',\n",
       " 'I always feel contempt, \\n',\n",
       " 'that no one is popping champagne.\\n']"
      ]
     },
     "execution_count": 2,
     "metadata": {},
     "output_type": "execute_result"
    }
   ],
   "source": [
    "#Review Exercise: open file \"review.txt\" and store each line in a list\n",
    "#remember to remove the newline character \n",
    "poem = []\n"
   ]
  },
  {
   "cell_type": "markdown",
   "metadata": {},
   "source": [
    "<br>\n",
    "# CSV files\n",
    "CSV files stand for comma seperated values, which how programs like excel format their files. \n",
    "\n",
    "<img src=\"example.png\">"
   ]
  },
  {
   "cell_type": "code",
   "execution_count": 11,
   "metadata": {
    "collapsed": true
   },
   "outputs": [
    {
     "data": {
      "text/plain": [
       "['2012',\n",
       " 'MITSUBISHI',\n",
       " 'i-MiEV',\n",
       " 'SUBCOMPACT',\n",
       " '49',\n",
       " 'A1',\n",
       " 'B',\n",
       " '16.9',\n",
       " '21.4',\n",
       " '18.7',\n",
       " '1.9',\n",
       " '2.4',\n",
       " '2.1',\n",
       " '0',\n",
       " 'n/a',\n",
       " '100',\n",
       " '7\\n']"
      ]
     },
     "execution_count": 11,
     "metadata": {},
     "output_type": "execute_result"
    }
   ],
   "source": [
    "#Exercise open this file and store the information in a list\n",
    "# remember to use split on commas\n"
   ]
  },
  {
   "cell_type": "markdown",
   "metadata": {},
   "source": [
    "Using the \"csv\" package"
   ]
  },
  {
   "cell_type": "code",
   "execution_count": 4,
   "metadata": {
    "collapsed": true
   },
   "outputs": [],
   "source": [
    "import csv\n",
    "import csv as c   #not recommeded (package name is already short)"
   ]
  },
  {
   "cell_type": "code",
   "execution_count": 7,
   "metadata": {
    "collapsed": true
   },
   "outputs": [
    {
     "data": {
      "text/plain": [
       "['2012',\n",
       " 'MITSUBISHI',\n",
       " 'i-MiEV',\n",
       " 'SUBCOMPACT',\n",
       " '49',\n",
       " 'A1',\n",
       " 'B',\n",
       " '16.9',\n",
       " '21.4',\n",
       " '18.7',\n",
       " '1.9',\n",
       " '2.4',\n",
       " '2.1',\n",
       " '0',\n",
       " 'n/a',\n",
       " '100',\n",
       " '7']"
      ]
     },
     "execution_count": 7,
     "metadata": {},
     "output_type": "execute_result"
    }
   ],
   "source": [
    "with open('cars.csv') as csvfile:\n",
    "    cars = list(csv.reader(csvfile,delimiter =','))\n",
    "#default delimiter is ','\n",
    "with open('cars.csv') as csvfile:\n",
    "    cars = list(csv.reader(csvfile))\n",
    "cars[0]"
   ]
  },
  {
   "cell_type": "code",
   "execution_count": null,
   "metadata": {
    "collapsed": true
   },
   "outputs": [],
   "source": [
    "#print out he make and model of the first 5 cars"
   ]
  },
  {
   "cell_type": "code",
   "execution_count": 8,
   "metadata": {
    "collapsed": true
   },
   "outputs": [
    {
     "data": {
      "text/plain": [
       "[{'(g/km)': '0',\n",
       "  '(kW)': '49',\n",
       "  '(km)': '100',\n",
       "  'CITY (Le/100 km)': '1.9',\n",
       "  'CITY (kWh/100 km)': '16.9',\n",
       "  'COMB (Le/100 km)': '2.1',\n",
       "  'COMB (kWh/100 km)': '18.7',\n",
       "  'HWY (Le/100 km)': '2.4',\n",
       "  'HWY (kWh/100 km)': '21.4',\n",
       "  'Make': 'MITSUBISHI',\n",
       "  'Model': 'i-MiEV',\n",
       "  'RATING': 'n/a',\n",
       "  'Size': 'SUBCOMPACT',\n",
       "  'TIME (h)': '7',\n",
       "  'TYPE': 'B',\n",
       "  'Unnamed: 5': 'A1',\n",
       "  'YEAR': '2012'},\n",
       " {'(g/km)': '0',\n",
       "  '(kW)': '80',\n",
       "  '(km)': '117',\n",
       "  'CITY (Le/100 km)': '2.2',\n",
       "  'CITY (kWh/100 km)': '19.3',\n",
       "  'COMB (Le/100 km)': '2.4',\n",
       "  'COMB (kWh/100 km)': '21.1',\n",
       "  'HWY (Le/100 km)': '2.6',\n",
       "  'HWY (kWh/100 km)': '23.0',\n",
       "  'Make': 'NISSAN',\n",
       "  'Model': 'LEAF',\n",
       "  'RATING': 'n/a',\n",
       "  'Size': 'MID-SIZE',\n",
       "  'TIME (h)': '7',\n",
       "  'TYPE': 'B',\n",
       "  'Unnamed: 5': 'A1',\n",
       "  'YEAR': '2012'},\n",
       " {'(g/km)': '0',\n",
       "  '(kW)': '107',\n",
       "  '(km)': '122',\n",
       "  'CITY (Le/100 km)': '2.1',\n",
       "  'CITY (kWh/100 km)': '19.0',\n",
       "  'COMB (Le/100 km)': '2.2',\n",
       "  'COMB (kWh/100 km)': '20.0',\n",
       "  'HWY (Le/100 km)': '2.4',\n",
       "  'HWY (kWh/100 km)': '21.1',\n",
       "  'Make': 'FORD',\n",
       "  'Model': 'FOCUS ELECTRIC',\n",
       "  'RATING': 'n/a',\n",
       "  'Size': 'COMPACT',\n",
       "  'TIME (h)': '4',\n",
       "  'TYPE': 'B',\n",
       "  'Unnamed: 5': 'A1',\n",
       "  'YEAR': '2013'}]"
      ]
     },
     "execution_count": 8,
     "metadata": {},
     "output_type": "execute_result"
    }
   ],
   "source": [
    "with open('cars.csv') as csvfile:\n",
    "    cars = list(csv.DictReader(csvfile))\n",
    "    \n",
    "cars[:3] # The first three dictionaries in our list."
   ]
  },
  {
   "cell_type": "markdown",
   "metadata": {},
   "source": [
    "<br>\n",
    "`csv.Dictreader` has read in each row of our csv file as a dictionary. `len` shows that our list is comprised of 53 dictionaries."
   ]
  },
  {
   "cell_type": "code",
   "execution_count": 9,
   "metadata": {
    "collapsed": true
   },
   "outputs": [
    {
     "data": {
      "text/plain": [
       "53"
      ]
     },
     "execution_count": 9,
     "metadata": {},
     "output_type": "execute_result"
    }
   ],
   "source": [
    "len(cars)"
   ]
  },
  {
   "cell_type": "markdown",
   "metadata": {},
   "source": [
    "<br>\n",
    "since mpg is a list of dictionaries, `keys` gives us the column names of our csv."
   ]
  },
  {
   "cell_type": "code",
   "execution_count": 10,
   "metadata": {
    "collapsed": true
   },
   "outputs": [
    {
     "data": {
      "text/plain": [
       "dict_keys(['COMB (kWh/100 km)', 'Size', 'CITY (kWh/100 km)', 'COMB (Le/100 km)', 'Model', '(kW)', 'Make', 'TYPE', 'CITY (Le/100 km)', 'RATING', '(g/km)', '(km)', 'TIME (h)', 'HWY (Le/100 km)', 'Unnamed: 5', 'YEAR', 'HWY (kWh/100 km)'])"
      ]
     },
     "execution_count": 10,
     "metadata": {},
     "output_type": "execute_result"
    }
   ],
   "source": [
    "cars[0].keys()"
   ]
  },
  {
   "cell_type": "code",
   "execution_count": 27,
   "metadata": {
    "collapsed": true
   },
   "outputs": [
    {
     "data": {
      "text/plain": [
       "2.21"
      ]
     },
     "execution_count": 27,
     "metadata": {},
     "output_type": "execute_result"
    }
   ],
   "source": [
    "##Exercise: calculate the average electricity consumption while driving in the city"
   ]
  },
  {
   "cell_type": "code",
   "execution_count": 29,
   "metadata": {
    "collapsed": true
   },
   "outputs": [
    {
     "data": {
      "text/plain": [
       "8"
      ]
     },
     "execution_count": 29,
     "metadata": {},
     "output_type": "execute_result"
    }
   ],
   "source": [
    "##Exercise2: count how many different brands of cars there are, and print out all the different brands once"
   ]
  },
  {
   "cell_type": "markdown",
   "metadata": {},
   "source": [
    "# List Comprehension"
   ]
  },
  {
   "cell_type": "markdown",
   "metadata": {
    "collapsed": true
   },
   "source": [
    "imagine if you can fit your for loops in one line"
   ]
  },
  {
   "cell_type": "code",
   "execution_count": 1,
   "metadata": {
    "collapsed": false
   },
   "outputs": [
    {
     "data": {
      "text/plain": [
       "[2, 4, 6, 8, 10, 12, 14]"
      ]
     },
     "execution_count": 1,
     "metadata": {},
     "output_type": "execute_result"
    }
   ],
   "source": [
    "a = [1,2,3,4,5,6,7]\n",
    "b = []\n",
    "for num in a: \n",
    "    b.append(num*2)\n",
    "b"
   ]
  },
  {
   "cell_type": "markdown",
   "metadata": {},
   "source": [
    "using the \"for... in\" syntax, it's almost writing a for loop in reverse"
   ]
  },
  {
   "cell_type": "code",
   "execution_count": null,
   "metadata": {
    "collapsed": true
   },
   "outputs": [],
   "source": [
    "a = [1,2,3,4,5,6,7]\n",
    "b = [num*2 for num in a]\n",
    "b"
   ]
  },
  {
   "cell_type": "code",
   "execution_count": 2,
   "metadata": {
    "collapsed": true
   },
   "outputs": [
    {
     "data": {
      "text/plain": [
       "[0, 1, 2, 3, 4, 5, 6, 7, 8, 9]"
      ]
     },
     "execution_count": 2,
     "metadata": {},
     "output_type": "execute_result"
    }
   ],
   "source": [
    "#Exercise: using list comprehension and \"range\" syntax to store number 0 to 9 to list \"numbers\" "
   ]
  },
  {
   "cell_type": "markdown",
   "metadata": {},
   "source": [
    "Is this really worth it tho? We can actually include if statements in list comprhension\n",
    "\n",
    "\"__ if ____ else ___ for ___ in ___\" or \"___ for ____ in ____ if ___\""
   ]
  },
  {
   "cell_type": "code",
   "execution_count": 5,
   "metadata": {
    "collapsed": true
   },
   "outputs": [
    {
     "data": {
      "text/plain": [
       "[0, 2, 4, 6, 8, 10]"
      ]
     },
     "execution_count": 5,
     "metadata": {},
     "output_type": "execute_result"
    }
   ],
   "source": [
    "a = [0,1,2,3,4,5,6,7,8,9,10]\n",
    "b = [num for num in a if num%2 == 0]\n",
    "b"
   ]
  },
  {
   "cell_type": "code",
   "execution_count": 6,
   "metadata": {
    "collapsed": true
   },
   "outputs": [
    {
     "data": {
      "text/plain": [
       "[0, 10, -2, 30, -4, 50, -6, 70, -8, 90, -10]"
      ]
     },
     "execution_count": 6,
     "metadata": {},
     "output_type": "execute_result"
    }
   ],
   "source": [
    "c = [-num if num%2 ==0 else num*10 for num in a]\n",
    "c"
   ]
  },
  {
   "cell_type": "code",
   "execution_count": 18,
   "metadata": {
    "collapsed": true
   },
   "outputs": [
    {
     "data": {
      "text/plain": [
       "['THE',\n",
       " 'MAIN',\n",
       " 'co',\n",
       " 'FOR',\n",
       " 'THE',\n",
       " 'ac',\n",
       " 'OF',\n",
       " 'LOVE',\n",
       " 'IS',\n",
       " 'THE',\n",
       " 'ov',\n",
       " 'OF',\n",
       " 'on',\n",
       " 'na',\n",
       " 'THE',\n",
       " 'na',\n",
       " 'or',\n",
       " 'IS',\n",
       " 'ONE',\n",
       " 'IN',\n",
       " 'wh',\n",
       " 'ONE',\n",
       " 'ex',\n",
       " 'AS',\n",
       " 'REAL',\n",
       " 'ONLY',\n",
       " 'THAT',\n",
       " 'wh',\n",
       " 'ex',\n",
       " 'wi',\n",
       " 'on',\n",
       " 'wh',\n",
       " 'THE',\n",
       " 'ph',\n",
       " 'IN',\n",
       " 'THE',\n",
       " 'ou',\n",
       " 'wo',\n",
       " 'HAVE',\n",
       " 'NO',\n",
       " 're',\n",
       " 'IN',\n",
       " 'th',\n",
       " 'BUT',\n",
       " 'ARE',\n",
       " 'ex',\n",
       " 'ONLY',\n",
       " 'FROM',\n",
       " 'THE',\n",
       " 'vi',\n",
       " 'OF',\n",
       " 'th',\n",
       " 'be',\n",
       " 'us',\n",
       " 'OR',\n",
       " 'da',\n",
       " 'TO',\n",
       " 'ONE.',\n",
       " 'THE',\n",
       " 'op',\n",
       " 'POLE',\n",
       " 'TO',\n",
       " 'na',\n",
       " 'IS',\n",
       " 'ob',\n",
       " 'IT',\n",
       " 'IS',\n",
       " 'THE',\n",
       " 'fa',\n",
       " 'TO',\n",
       " 'SEE',\n",
       " 'ot',\n",
       " 'pe',\n",
       " 'AND',\n",
       " 'th',\n",
       " 'AS',\n",
       " 'THEY',\n",
       " 'ARE,',\n",
       " 'ob',\n",
       " 'AND',\n",
       " 'TO',\n",
       " 'BE',\n",
       " 'ABLE',\n",
       " 'TO',\n",
       " 'se',\n",
       " 'THIS',\n",
       " 'ob',\n",
       " 'pi',\n",
       " 'FROM',\n",
       " 'A',\n",
       " 'pi',\n",
       " 'wh',\n",
       " 'IS',\n",
       " 'fo',\n",
       " 'BY',\n",
       " 'on',\n",
       " 'de',\n",
       " 'AND',\n",
       " 'fe']"
      ]
     },
     "execution_count": 18,
     "metadata": {},
     "output_type": "execute_result"
    }
   ],
   "source": [
    "#Exercise: read in file \"practice2.txt\". parse each word as an element in the list. \n",
    "#return only the first 2 characters for words longer than 5 characters\n",
    "#captialize words than are shorter than 5 characters\n",
    "#Use list comprehension!\n",
    "#eg: ['THE','MAIN','co','FOR','THE','ac','OF','LOVE','IS','THE','ov','OF'.........\n"
   ]
  },
  {
   "cell_type": "markdown",
   "metadata": {
    "collapsed": true
   },
   "source": [
    "# Applying List Comprehension\n",
    "back on our cars.csv example"
   ]
  },
  {
   "cell_type": "code",
   "execution_count": null,
   "metadata": {
    "collapsed": true
   },
   "outputs": [],
   "source": [
    "###Exercise: calculate the average electricity consumption while driving in the city\n",
    "#Using list comprehension"
   ]
  },
  {
   "cell_type": "code",
   "execution_count": null,
   "metadata": {
    "collapsed": true
   },
   "outputs": [],
   "source": [
    "##Exercise2: count how many different brands of cars there are, and print out all the different brands once\n",
    "#Using list comprehension"
   ]
  },
  {
   "cell_type": "markdown",
   "metadata": {},
   "source": [
    "the __zip__ keyword"
   ]
  },
  {
   "cell_type": "code",
   "execution_count": 16,
   "metadata": {
    "collapsed": true
   },
   "outputs": [
    {
     "name": "stdout",
     "output_type": "stream",
     "text": [
      "11 minus 1 equals to 10\n",
      "12 minus 2 equals to 10\n",
      "13 minus 3 equals to 10\n",
      "14 minus 4 equals to 10\n",
      "15 minus 5 equals to 10\n",
      "16 minus 6 equals to 10\n"
     ]
    }
   ],
   "source": [
    "A = [1,2,3,4,5,6]\n",
    "B = [11,12,13,14,15,16]\n",
    "for a,b in zip(A,B):\n",
    "    print(\"%i minus %i equals to %i\"%(b,a,b-a))"
   ]
  },
  {
   "cell_type": "markdown",
   "metadata": {},
   "source": [
    "zip is limited by the shortest list"
   ]
  },
  {
   "cell_type": "code",
   "execution_count": 18,
   "metadata": {
    "collapsed": true
   },
   "outputs": [
    {
     "name": "stdout",
     "output_type": "stream",
     "text": [
      "1 1\n",
      "1 2\n"
     ]
    }
   ],
   "source": [
    "C = [1,1]\n",
    "D = [1,2,3,4,5,6,7]\n",
    "for c,d in zip(C,D):\n",
    "    print(c,d)"
   ]
  },
  {
   "cell_type": "markdown",
   "metadata": {},
   "source": [
    "Using zip in list comprehension"
   ]
  },
  {
   "cell_type": "code",
   "execution_count": null,
   "metadata": {
    "collapsed": true
   },
   "outputs": [],
   "source": [
    "#return a list of the max element from each list for each index\n",
    "#use zip and list comprehension\n",
    "#eg: [2,44,100.....]\n",
    "E = [2,44,12,16,23,1]\n",
    "F = [0,1,100,12,14,2]"
   ]
  },
  {
   "cell_type": "markdown",
   "metadata": {},
   "source": [
    "# Lambda Functions: writing functions in 1 line"
   ]
  },
  {
   "cell_type": "markdown",
   "metadata": {},
   "source": [
    "lambda  __variable__  :  __returnValue__"
   ]
  },
  {
   "cell_type": "code",
   "execution_count": 11,
   "metadata": {
    "collapsed": true
   },
   "outputs": [
    {
     "data": {
      "text/plain": [
       "4"
      ]
     },
     "execution_count": 11,
     "metadata": {},
     "output_type": "execute_result"
    }
   ],
   "source": [
    "a = lambda x: x*2\n",
    "a(2)"
   ]
  },
  {
   "cell_type": "code",
   "execution_count": 12,
   "metadata": {
    "collapsed": true
   },
   "outputs": [
    {
     "data": {
      "text/plain": [
       "5"
      ]
     },
     "execution_count": 12,
     "metadata": {},
     "output_type": "execute_result"
    }
   ],
   "source": [
    "b = lambda x,y: x+y\n",
    "b(2,3)"
   ]
  },
  {
   "cell_type": "code",
   "execution_count": null,
   "metadata": {
    "collapsed": true
   },
   "outputs": [],
   "source": [
    "#Exercise: write a lambda function that returns the product of two numbers\n"
   ]
  }
 ],
 "metadata": {
  "anaconda-cloud": {},
  "kernelspec": {
   "display_name": "Python [default]",
   "language": "python",
   "name": "python3"
  },
  "language_info": {
   "codemirror_mode": {
    "name": "ipython",
    "version": 3
   },
   "file_extension": ".py",
   "mimetype": "text/x-python",
   "name": "python",
   "nbconvert_exporter": "python",
   "pygments_lexer": "ipython3",
   "version": "3.5.2"
  }
 },
 "nbformat": 4,
 "nbformat_minor": 0
}
