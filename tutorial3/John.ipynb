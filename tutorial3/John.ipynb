{
 "cells": [
  {
   "cell_type": "markdown",
   "metadata": {},
   "source": [
    "<br>\n",
    "# Mars' Python Tutorial 3"
   ]
  },
  {
   "cell_type": "code",
   "execution_count": 10,
   "metadata": {
    "collapsed": false
   },
   "outputs": [
    {
     "name": "stdout",
     "output_type": "stream",
     "text": [
      "red\n",
      "yellow\n",
      "orange\n",
      "purple\n",
      "modest\n",
      "appple\n",
      "banana\n",
      "orange\n",
      "lemon\n",
      "blueberry\n"
     ]
    }
   ],
   "source": [
    "#Review Exercise: Print out the Keys and Values of the following dictionary\n",
    "# in this format: \"My _key_ is very _value_\" \n",
    "to_print = {\n",
    "    \"appple\": \"red\", \n",
    "    \"banana\": \"yellow\",\n",
    "    \"orange\": \"orange\",\n",
    "    \"lemon\" : \"purple\",\n",
    "    \"blueberry\": \"modest\",\n",
    "}\n",
    "for fruit in to_print:\n",
    "    #print(fruit)\n",
    "    print(to_print[fruit])\n",
    "for color in to_print:\n",
    "    print(color)\n",
    "    #to_print[color]\n",
    "#for fruit,color in to_print.items():\n",
    "#    print('My ' + fruit + \" is very \" + color)"
   ]
  },
  {
   "cell_type": "code",
   "execution_count": 21,
   "metadata": {
    "collapsed": false
   },
   "outputs": [
    {
     "name": "stdout",
     "output_type": "stream",
     "text": [
      "(3, -1)\n",
      "6\n"
     ]
    }
   ],
   "source": [
    "#Review Exercise: make a function that returns the sum and difference\n",
    "#of the two input numbers (hint: use zip)\n",
    "def wow(x,y,z=None):\n",
    "    if (z == None):\n",
    "        return x+y, x-y\n",
    "    else:\n",
    "        return x+y+z\n",
    "print(wow(1,2))\n",
    "print(wow(1,2,3))\n",
    "    \n"
   ]
  },
  {
   "cell_type": "code",
   "execution_count": 7,
   "metadata": {
    "collapsed": false
   },
   "outputs": [
    {
     "name": "stdout",
     "output_type": "stream",
     "text": [
      "['This is my humble attempt, ', 'to write a poem again.', 'I always feel contempt, ', 'that no one is popping champagne.']\n"
     ]
    }
   ],
   "source": [
    "#Review Exercise: open file \"review.txt\" and store each line in a list\n",
    "#remember to remove the newline character \n",
    "poem = []\n",
    "with open(\"review.txt\",\"r\") as file:\n",
    "    for line in file: \n",
    "        poem.append(line.strip(\"\\n\"))\n",
    "print(poem)\n"
   ]
  },
  {
   "cell_type": "markdown",
   "metadata": {},
   "source": [
    "<br>\n",
    "# CSV files\n",
    "CSV files stand for comma seperated values, which how programs like excel format their files. \n",
    "\n",
    "<img src=\"example.png\">"
   ]
  },
  {
   "cell_type": "code",
   "execution_count": 25,
   "metadata": {
    "collapsed": false
   },
   "outputs": [
    {
     "name": "stdout",
     "output_type": "stream",
     "text": [
      "[['YEAR', 'Make', 'Model', 'Size', '(kW)', 'Unnamed: 5', 'TYPE', 'CITY (kWh/100 km)', 'HWY (kWh/100 km)', 'COMB (kWh/100 km)', 'CITY (Le/100 km)', 'HWY (Le/100 km)', 'COMB (Le/100 km)', '(g/km)', 'RATING', '(km)', 'TIME (h)'], ['2012', 'MITSUBISHI', 'i-MiEV', 'SUBCOMPACT', '49', 'A1', 'B', '16.9', '21.4', '18.7', '1.9', '2.4', '2.1', '0', 'n/a', '100', '7'], ['2012', 'NISSAN', 'LEAF', 'MID-SIZE', '80', 'A1', 'B', '19.3', '23.0', '21.1', '2.2', '2.6', '2.4', '0', 'n/a', '117', '7'], ['2013', 'FORD', 'FOCUS ELECTRIC', 'COMPACT', '107', 'A1', 'B', '19.0', '21.1', '20.0', '2.1', '2.4', '2.2', '0', 'n/a', '122', '4'], ['2013', 'MITSUBISHI', 'i-MiEV', 'SUBCOMPACT', '49', 'A1', 'B', '16.9', '21.4', '18.7', '1.9', '2.4', '2.1', '0', 'n/a', '100', '7'], ['2013', 'NISSAN', 'LEAF', 'MID-SIZE', '80', 'A1', 'B', '19.3', '23.0', '21.1', '2.2', '2.6', '2.4', '0', 'n/a', '117', '7'], ['2013', 'SMART', 'FORTWO ELECTRIC DRIVE CABRIOLET', 'TWO-SEATER', '35', 'A1', 'B', '17.2', '22.5', '19.6', '1.9', '2.5', '2.2', '0', 'n/a', '109', '8'], ['2013', 'SMART', 'FORTWO ELECTRIC DRIVE COUPE', 'TWO-SEATER', '35', 'A1', 'B', '17.2', '22.5', '19.6', '1.9', '2.5', '2.2', '0', 'n/a', '109', '8'], ['2013', 'TESLA', 'MODEL S (40 kWh battery)', 'FULL-SIZE', '270', 'A1', 'B', '22.4', '21.9', '22.2', '2.5', '2.5', '2.5', '0', 'n/a', '224', '6'], ['2013', 'TESLA', 'MODEL S (60 kWh battery)', 'FULL-SIZE', '270', 'A1', 'B', '22.2', '21.7', '21.9', '2.5', '2.4', '2.5', '0', 'n/a', '335', '10'], ['2013', 'TESLA', 'MODEL S (85 kWh battery)', 'FULL-SIZE', '270', 'A1', 'B', '23.8', '23.2', '23.6', '2.7', '2.6', '2.6', '0', 'n/a', '426', '12'], ['2013', 'TESLA', 'MODEL S PERFORMANCE', 'FULL-SIZE', '310', 'A1', 'B', '23.9', '23.2', '23.6', '2.7', '2.6', '2.6', '0', 'n/a', '426', '12'], ['2014', 'CHEVROLET', 'SPARK EV', 'SUBCOMPACT', '104', 'A1', 'B', '16.0', '19.6', '17.8', '1.8', '2.2', '2.0', '0', 'n/a', '131', '7'], ['2014', 'FORD', 'FOCUS ELECTRIC', 'COMPACT', '107', 'A1', 'B', '19.0', '21.1', '20.0', '2.1', '2.4', '2.2', '0', 'n/a', '122', '4'], ['2014', 'MITSUBISHI', 'i-MiEV', 'SUBCOMPACT', '49', 'A1', 'B', '16.9', '21.4', '18.7', '1.9', '2.4', '2.1', '0', 'n/a', '100', '7'], ['2014', 'NISSAN', 'LEAF', 'MID-SIZE', '80', 'A1', 'B', '16.5', '20.8', '18.4', '1.9', '2.3', '2.1', '0', 'n/a', '135', '5'], ['2014', 'SMART', 'FORTWO ELECTRIC DRIVE CABRIOLET', 'TWO-SEATER', '35', 'A1', 'B', '17.2', '22.5', '19.6', '1.9', '2.5', '2.2', '0', 'n/a', '109', '8'], ['2014', 'SMART', 'FORTWO ELECTRIC DRIVE COUPE', 'TWO-SEATER', '35', 'A1', 'B', '17.2', '22.5', '19.6', '1.9', '2.5', '2.2', '0', 'n/a', '109', '8'], ['2014', 'TESLA', 'MODEL S (60 kWh battery)', 'FULL-SIZE', '225', 'A1', 'B', '22.2', '21.7', '21.9', '2.5', '2.4', '2.5', '0', 'n/a', '335', '10'], ['2014', 'TESLA', 'MODEL S (85 kWh battery)', 'FULL-SIZE', '270', 'A1', 'B', '23.8', '23.2', '23.6', '2.7', '2.6', '2.6', '0', 'n/a', '426', '12'], ['2014', 'TESLA', 'MODEL S PERFORMANCE', 'FULL-SIZE', '310', 'A1', 'B', '23.9', '23.2', '23.6', '2.7', '2.6', '2.6', '0', 'n/a', '426', '12'], ['2015', 'BMW', 'i3', 'SUBCOMPACT', '125', 'A1', 'B', '15.2', '18.8', '16.8', '1.7', '2.1', '1.9', '0', 'n/a', '130', '4'], ['2015', 'CHEVROLET', 'SPARK EV', 'SUBCOMPACT', '104', 'A1', 'B', '16.0', '19.6', '17.8', '1.8', '2.2', '2.0', '0', 'n/a', '131', '7'], ['2015', 'FORD', 'FOCUS ELECTRIC', 'COMPACT', '107', 'A1', 'B', '19.0', '21.1', '20.0', '2.1', '2.4', '2.2', '0', 'n/a', '122', '4'], ['2015', 'KIA', 'SOUL EV', 'STATION WAGON - SMALL', '81', 'A1', 'B', '17.5', '22.7', '19.9', '2.0', '2.6', '2.2', '0', 'n/a', '149', '4'], ['2015', 'MITSUBISHI', 'i-MiEV', 'SUBCOMPACT', '49', 'A1', 'B', '16.9', '21.4', '18.7', '1.9', '2.4', '2.1', '0', 'n/a', '100', '7'], ['2015', 'NISSAN', 'LEAF', 'MID-SIZE', '80', 'A1', 'B', '16.5', '20.8', '18.4', '1.9', '2.3', '2.1', '0', 'n/a', '135', '5'], ['2015', 'SMART', 'FORTWO ELECTRIC DRIVE CABRIOLET', 'TWO-SEATER', '35', 'A1', 'B', '17.2', '22.5', '19.6', '1.9', '2.5', '2.2', '0', 'n/a', '109', '8'], ['2015', 'SMART', 'FORTWO ELECTRIC DRIVE COUPE', 'TWO-SEATER', '35', 'A1', 'B', '17.2', '22.5', '19.6', '1.9', '2.5', '2.2', '0', 'n/a', '109', '8'], ['2015', 'TESLA', 'MODEL S (60 kWh battery)', 'FULL-SIZE', '283', 'A1', 'B', '22.2', '21.7', '21.9', '2.5', '2.4', '2.5', '0', 'n/a', '335', '10'], ['2015', 'TESLA', 'MODEL S (70 kWh battery)', 'FULL-SIZE', '283', 'A1', 'B', '23.8', '23.2', '23.6', '2.7', '2.6', '2.6', '0', 'n/a', '377', '12'], ['2015', 'TESLA', 'MODEL S (85/90 kWh battery)', 'FULL-SIZE', '283', 'A1', 'B', '23.8', '23.2', '23.6', '2.7', '2.6', '2.6', '0', 'n/a', '426', '12'], ['2015', 'TESLA', 'MODEL S 70D', 'FULL-SIZE', '280', 'A1', 'B', '20.8', '20.6', '20.7', '2.3', '2.3', '2.3', '0', 'n/a', '386', '12'], ['2015', 'TESLA', 'MODEL S 85D/90D', 'FULL-SIZE', '280', 'A1', 'B', '22.0', '19.8', '21.0', '2.5', '2.2', '2.4', '0', 'n/a', '435', '12'], ['2015', 'TESLA', 'MODEL S P85D/P90D', 'FULL-SIZE', '515', 'A1', 'B', '23.4', '21.5', '22.5', '2.6', '2.4', '2.5', '0', 'n/a', '407', '12'], ['2016', 'BMW', 'i3', 'SUBCOMPACT', '125', 'A1', 'B', '15.2', '18.8', '16.8', '1.7', '2.1', '1.9', '0', '10', '130', '4'], ['2016', 'CHEVROLET', 'SPARK EV', 'SUBCOMPACT', '104', 'A1', 'B', '16.0', '19.6', '17.8', '1.8', '2.2', '2.0', '0', '10', '131', '7'], ['2016', 'FORD', 'FOCUS ELECTRIC', 'COMPACT', '107', 'A1', 'B', '19.0', '21.1', '20.0', '2.1', '2.4', '2.2', '0', '10', '122', '4'], ['2016', 'KIA', 'SOUL EV', 'STATION WAGON - SMALL', '81', 'A1', 'B', '17.5', '22.7', '19.9', '2.0', '2.6', '2.2', '0', '10', '149', '4'], ['2016', 'MITSUBISHI', 'i-MiEV', 'SUBCOMPACT', '49', 'A1', 'B', '16.9', '21.4', '18.7', '1.9', '2.4', '2.1', '0', '10', '100', '7'], ['2016', 'NISSAN', 'LEAF (24 kWh battery)', 'MID-SIZE', '80', 'A1', 'B', '16.5', '20.8', '18.4', '1.9', '2.3', '2.1', '0', '10', '135', '5'], ['2016', 'NISSAN', 'LEAF (30 kWh battery)', 'MID-SIZE', '80', 'A1', 'B', '17.0', '20.7', '18.6', '1.9', '2.3', '2.1', '0', '10', '172', '6'], ['2016', 'SMART', 'FORTWO ELECTRIC DRIVE CABRIOLET', 'TWO-SEATER', '35', 'A1', 'B', '17.2', '22.5', '19.6', '1.9', '2.5', '2.2', '0', '10', '109', '8'], ['2016', 'SMART', 'FORTWO ELECTRIC DRIVE COUPE', 'TWO-SEATER', '35', 'A1', 'B', '17.2', '22.5', '19.6', '1.9', '2.5', '2.2', '0', '10', '109', '8'], ['2016', 'TESLA', 'MODEL S (60 kWh battery)', 'FULL-SIZE', '283', 'A1', 'B', '22.2', '21.7', '21.9', '2.5', '2.4', '2.5', '0', '10', '335', '10'], ['2016', 'TESLA', 'MODEL S (70 kWh battery)', 'FULL-SIZE', '283', 'A1', 'B', '23.8', '23.2', '23.6', '2.7', '2.6', '2.6', '0', '10', '377', '12'], ['2016', 'TESLA', 'MODEL S (85/90 kWh battery)', 'FULL-SIZE', '283', 'A1', 'B', '23.8', '23.2', '23.6', '2.7', '2.6', '2.6', '0', '10', '426', '12'], ['2016', 'TESLA', 'MODEL S 70D', 'FULL-SIZE', '386', 'A1', 'B', '20.8', '20.6', '20.7', '2.3', '2.3', '2.3', '0', '10', '386', '12'], ['2016', 'TESLA', 'MODEL S 85D/90D', 'FULL-SIZE', '386', 'A1', 'B', '22.0', '19.8', '21.0', '2.5', '2.2', '2.4', '0', '10', '435', '12'], ['2016', 'TESLA', 'MODEL S 90D (Refresh)', 'FULL-SIZE', '386', 'A1', 'B', '20.8', '19.7', '20.3', '2.3', '2.2', '2.3', '0', '10', '473', '12'], ['2016', 'TESLA', 'MODEL S P85D/P90D', 'FULL-SIZE', '568', 'A1', 'B', '23.4', '21.5', '22.5', '2.6', '2.4', '2.5', '0', '10', '407', '12'], ['2016', 'TESLA', 'MODEL S P90D (Refresh)', 'FULL-SIZE', '568', 'A1', 'B', '22.9', '21.0', '22.1', '2.6', '2.4', '2.5', '0', '10', '435', '12'], ['2016', 'TESLA', 'MODEL X 90D', 'SUV - STANDARD', '386', 'A1', 'B', '23.2', '22.2', '22.7', '2.6', '2.5', '2.6', '0', '10', '414', '12'], ['2016', 'TESLA', 'MODEL X P90D', 'SUV - STANDARD', '568', 'A1', 'B', '23.6', '23.3', '23.5', '2.7', '2.6', '2.6', '0', '10', '402', '12']]\n"
     ]
    }
   ],
   "source": [
    "#Exercise open this file and store the information in a list\n",
    "# remember to use split on commas\n",
    "cars=[]\n",
    "with open(\"cars.csv\",\"r\") as file:\n",
    "    for line in file: \n",
    "        cars.append(line.strip(\"\\n\").split(','))\n",
    "print(cars)"
   ]
  },
  {
   "cell_type": "markdown",
   "metadata": {},
   "source": [
    "Using the \"csv\" package"
   ]
  },
  {
   "cell_type": "code",
   "execution_count": 29,
   "metadata": {
    "collapsed": true
   },
   "outputs": [],
   "source": [
    "import csv\n",
    "import csv as c   #not recommeded (package name is already short)"
   ]
  },
  {
   "cell_type": "code",
   "execution_count": 27,
   "metadata": {
    "collapsed": false
   },
   "outputs": [
    {
     "data": {
      "text/plain": [
       "['YEAR',\n",
       " 'Make',\n",
       " 'Model',\n",
       " 'Size',\n",
       " '(kW)',\n",
       " 'Unnamed: 5',\n",
       " 'TYPE',\n",
       " 'CITY (kWh/100 km)',\n",
       " 'HWY (kWh/100 km)',\n",
       " 'COMB (kWh/100 km)',\n",
       " 'CITY (Le/100 km)',\n",
       " 'HWY (Le/100 km)',\n",
       " 'COMB (Le/100 km)',\n",
       " '(g/km)',\n",
       " 'RATING',\n",
       " '(km)',\n",
       " 'TIME (h)']"
      ]
     },
     "execution_count": 27,
     "metadata": {},
     "output_type": "execute_result"
    }
   ],
   "source": [
    "with open('cars.csv') as csvfile:\n",
    "    cars = list(csv.reader(csvfile,delimiter =','))\n",
    "#default delimiter is ','\n",
    "with open('cars.csv') as csvfile:\n",
    "    cars = list(csv.reader(csvfile))\n",
    "cars[0]"
   ]
  },
  {
   "cell_type": "code",
   "execution_count": 46,
   "metadata": {
    "collapsed": false
   },
   "outputs": [
    {
     "name": "stdout",
     "output_type": "stream",
     "text": [
      "MITSUBISHI    i-MiEV\n",
      "NISSAN    LEAF\n",
      "FORD    FOCUS ELECTRIC\n",
      "MITSUBISHI    i-MiEV\n",
      "NISSAN    LEAF\n"
     ]
    }
   ],
   "source": [
    "#print out he make and model of the first 5 cars\n",
    "#with open('cars.csv') as csvfile:\n",
    "#    cars = list(csv.DictReader(csvfile))\n",
    "with open('cars.csv') as csvfile:\n",
    "    cars = list(csv.reader(csvfile))\n",
    "for i in range(1,6):\n",
    "    print(cars[i][1] + '    '+cars[i][2])\n",
    "#cars.ix[:5,\"Make\",\"Model\"]"
   ]
  },
  {
   "cell_type": "code",
   "execution_count": 47,
   "metadata": {
    "collapsed": false
   },
   "outputs": [
    {
     "data": {
      "text/plain": [
       "[OrderedDict([('YEAR', '2012'),\n",
       "              ('Make', 'MITSUBISHI'),\n",
       "              ('Model', 'i-MiEV'),\n",
       "              ('Size', 'SUBCOMPACT'),\n",
       "              ('(kW)', '49'),\n",
       "              ('Unnamed: 5', 'A1'),\n",
       "              ('TYPE', 'B'),\n",
       "              ('CITY (kWh/100 km)', '16.9'),\n",
       "              ('HWY (kWh/100 km)', '21.4'),\n",
       "              ('COMB (kWh/100 km)', '18.7'),\n",
       "              ('CITY (Le/100 km)', '1.9'),\n",
       "              ('HWY (Le/100 km)', '2.4'),\n",
       "              ('COMB (Le/100 km)', '2.1'),\n",
       "              ('(g/km)', '0'),\n",
       "              ('RATING', 'n/a'),\n",
       "              ('(km)', '100'),\n",
       "              ('TIME (h)', '7')]),\n",
       " OrderedDict([('YEAR', '2012'),\n",
       "              ('Make', 'NISSAN'),\n",
       "              ('Model', 'LEAF'),\n",
       "              ('Size', 'MID-SIZE'),\n",
       "              ('(kW)', '80'),\n",
       "              ('Unnamed: 5', 'A1'),\n",
       "              ('TYPE', 'B'),\n",
       "              ('CITY (kWh/100 km)', '19.3'),\n",
       "              ('HWY (kWh/100 km)', '23.0'),\n",
       "              ('COMB (kWh/100 km)', '21.1'),\n",
       "              ('CITY (Le/100 km)', '2.2'),\n",
       "              ('HWY (Le/100 km)', '2.6'),\n",
       "              ('COMB (Le/100 km)', '2.4'),\n",
       "              ('(g/km)', '0'),\n",
       "              ('RATING', 'n/a'),\n",
       "              ('(km)', '117'),\n",
       "              ('TIME (h)', '7')]),\n",
       " OrderedDict([('YEAR', '2013'),\n",
       "              ('Make', 'FORD'),\n",
       "              ('Model', 'FOCUS ELECTRIC'),\n",
       "              ('Size', 'COMPACT'),\n",
       "              ('(kW)', '107'),\n",
       "              ('Unnamed: 5', 'A1'),\n",
       "              ('TYPE', 'B'),\n",
       "              ('CITY (kWh/100 km)', '19.0'),\n",
       "              ('HWY (kWh/100 km)', '21.1'),\n",
       "              ('COMB (kWh/100 km)', '20.0'),\n",
       "              ('CITY (Le/100 km)', '2.1'),\n",
       "              ('HWY (Le/100 km)', '2.4'),\n",
       "              ('COMB (Le/100 km)', '2.2'),\n",
       "              ('(g/km)', '0'),\n",
       "              ('RATING', 'n/a'),\n",
       "              ('(km)', '122'),\n",
       "              ('TIME (h)', '4')])]"
      ]
     },
     "execution_count": 47,
     "metadata": {},
     "output_type": "execute_result"
    }
   ],
   "source": [
    "with open('cars.csv') as csvfile:\n",
    "    cars = list(csv.DictReader(csvfile))\n",
    "    \n",
    "cars[:3] # The first three dictionaries in our list."
   ]
  },
  {
   "cell_type": "markdown",
   "metadata": {},
   "source": [
    "<br>\n",
    "`csv.Dictreader` has read in each row of our csv file as a dictionary. `len` shows that our list is comprised of 53 dictionaries."
   ]
  },
  {
   "cell_type": "code",
   "execution_count": 31,
   "metadata": {
    "collapsed": false
   },
   "outputs": [
    {
     "data": {
      "text/plain": [
       "53"
      ]
     },
     "execution_count": 31,
     "metadata": {},
     "output_type": "execute_result"
    }
   ],
   "source": [
    "len(cars)"
   ]
  },
  {
   "cell_type": "markdown",
   "metadata": {},
   "source": [
    "<br>\n",
    "since mpg is a list of dictionaries, `keys` gives us the column names of our csv."
   ]
  },
  {
   "cell_type": "code",
   "execution_count": 52,
   "metadata": {
    "collapsed": false
   },
   "outputs": [
    {
     "data": {
      "text/plain": [
       "'MITSUBISHI'"
      ]
     },
     "execution_count": 52,
     "metadata": {},
     "output_type": "execute_result"
    }
   ],
   "source": [
    "#cars[0].keys()\n",
    "cars[0]['Make']"
   ]
  },
  {
   "cell_type": "code",
   "execution_count": 71,
   "metadata": {
    "collapsed": false
   },
   "outputs": [
    {
     "data": {
      "text/plain": [
       "190.62264150943398"
      ]
     },
     "execution_count": 71,
     "metadata": {},
     "output_type": "execute_result"
    }
   ],
   "source": [
    "##Exercise: calculate the average electricity consumption while driving in the city\n",
    "total=0\n",
    "for i in range(0,len(cars)):\n",
    "    total+=int(cars[i]['(kW)'])\n",
    "total/len(cars)"
   ]
  },
  {
   "cell_type": "code",
   "execution_count": 54,
   "metadata": {
    "collapsed": true
   },
   "outputs": [],
   "source": [
    "##Exercise2: count how many different brands of cars there are, and print out all the different brands once"
   ]
  },
  {
   "cell_type": "markdown",
   "metadata": {},
   "source": [
    "# List Comprehension"
   ]
  },
  {
   "cell_type": "markdown",
   "metadata": {
    "collapsed": true
   },
   "source": [
    "imagine if you can fit your for loops in one line"
   ]
  },
  {
   "cell_type": "code",
   "execution_count": 1,
   "metadata": {
    "collapsed": false
   },
   "outputs": [
    {
     "data": {
      "text/plain": [
       "[2, 4, 6, 8, 10, 12, 14]"
      ]
     },
     "execution_count": 1,
     "metadata": {},
     "output_type": "execute_result"
    }
   ],
   "source": [
    "a = [1,2,3,4,5,6,7]\n",
    "b = []\n",
    "for num in a: \n",
    "    b.append(num*2)\n",
    "b"
   ]
  },
  {
   "cell_type": "markdown",
   "metadata": {},
   "source": [
    "using the \"for... in\" syntax, it's almost writing a for loop in reverse"
   ]
  },
  {
   "cell_type": "code",
   "execution_count": null,
   "metadata": {
    "collapsed": true
   },
   "outputs": [],
   "source": [
    "a = [1,2,3,4,5,6,7]\n",
    "b = [num*2 for num in a]\n",
    "b"
   ]
  },
  {
   "cell_type": "code",
   "execution_count": 2,
   "metadata": {
    "collapsed": true
   },
   "outputs": [
    {
     "data": {
      "text/plain": [
       "[0, 1, 2, 3, 4, 5, 6, 7, 8, 9]"
      ]
     },
     "execution_count": 2,
     "metadata": {},
     "output_type": "execute_result"
    }
   ],
   "source": [
    "#Exercise: using list comprehension and \"range\" syntax to store number 0 to 9 to list \"numbers\" "
   ]
  },
  {
   "cell_type": "markdown",
   "metadata": {},
   "source": [
    "Is this really worth it tho? We can actually include if statements in list comprhension\n",
    "\n",
    "\"__ if ____ else ___ for ___ in ___\" or \"___ for ____ in ____ if ___\""
   ]
  },
  {
   "cell_type": "code",
   "execution_count": 5,
   "metadata": {
    "collapsed": true
   },
   "outputs": [
    {
     "data": {
      "text/plain": [
       "[0, 2, 4, 6, 8, 10]"
      ]
     },
     "execution_count": 5,
     "metadata": {},
     "output_type": "execute_result"
    }
   ],
   "source": [
    "a = [0,1,2,3,4,5,6,7,8,9,10]\n",
    "b = [num for num in a if num%2 == 0]\n",
    "b"
   ]
  },
  {
   "cell_type": "code",
   "execution_count": 6,
   "metadata": {
    "collapsed": true
   },
   "outputs": [
    {
     "data": {
      "text/plain": [
       "[0, 10, -2, 30, -4, 50, -6, 70, -8, 90, -10]"
      ]
     },
     "execution_count": 6,
     "metadata": {},
     "output_type": "execute_result"
    }
   ],
   "source": [
    "c = [-num if num%2 ==0 else num*10 for num in a]\n",
    "c"
   ]
  },
  {
   "cell_type": "code",
   "execution_count": 18,
   "metadata": {
    "collapsed": true
   },
   "outputs": [
    {
     "data": {
      "text/plain": [
       "['THE',\n",
       " 'MAIN',\n",
       " 'co',\n",
       " 'FOR',\n",
       " 'THE',\n",
       " 'ac',\n",
       " 'OF',\n",
       " 'LOVE',\n",
       " 'IS',\n",
       " 'THE',\n",
       " 'ov',\n",
       " 'OF',\n",
       " 'on',\n",
       " 'na',\n",
       " 'THE',\n",
       " 'na',\n",
       " 'or',\n",
       " 'IS',\n",
       " 'ONE',\n",
       " 'IN',\n",
       " 'wh',\n",
       " 'ONE',\n",
       " 'ex',\n",
       " 'AS',\n",
       " 'REAL',\n",
       " 'ONLY',\n",
       " 'THAT',\n",
       " 'wh',\n",
       " 'ex',\n",
       " 'wi',\n",
       " 'on',\n",
       " 'wh',\n",
       " 'THE',\n",
       " 'ph',\n",
       " 'IN',\n",
       " 'THE',\n",
       " 'ou',\n",
       " 'wo',\n",
       " 'HAVE',\n",
       " 'NO',\n",
       " 're',\n",
       " 'IN',\n",
       " 'th',\n",
       " 'BUT',\n",
       " 'ARE',\n",
       " 'ex',\n",
       " 'ONLY',\n",
       " 'FROM',\n",
       " 'THE',\n",
       " 'vi',\n",
       " 'OF',\n",
       " 'th',\n",
       " 'be',\n",
       " 'us',\n",
       " 'OR',\n",
       " 'da',\n",
       " 'TO',\n",
       " 'ONE.',\n",
       " 'THE',\n",
       " 'op',\n",
       " 'POLE',\n",
       " 'TO',\n",
       " 'na',\n",
       " 'IS',\n",
       " 'ob',\n",
       " 'IT',\n",
       " 'IS',\n",
       " 'THE',\n",
       " 'fa',\n",
       " 'TO',\n",
       " 'SEE',\n",
       " 'ot',\n",
       " 'pe',\n",
       " 'AND',\n",
       " 'th',\n",
       " 'AS',\n",
       " 'THEY',\n",
       " 'ARE,',\n",
       " 'ob',\n",
       " 'AND',\n",
       " 'TO',\n",
       " 'BE',\n",
       " 'ABLE',\n",
       " 'TO',\n",
       " 'se',\n",
       " 'THIS',\n",
       " 'ob',\n",
       " 'pi',\n",
       " 'FROM',\n",
       " 'A',\n",
       " 'pi',\n",
       " 'wh',\n",
       " 'IS',\n",
       " 'fo',\n",
       " 'BY',\n",
       " 'on',\n",
       " 'de',\n",
       " 'AND',\n",
       " 'fe']"
      ]
     },
     "execution_count": 18,
     "metadata": {},
     "output_type": "execute_result"
    }
   ],
   "source": [
    "#Exercise: read in file \"practice2.txt\". parse each word as an element in the list. \n",
    "#return only the first 2 characters for words longer than 5 characters\n",
    "#captialize words than are shorter than 5 characters\n",
    "#Use list comprehension!\n",
    "#eg: ['THE','MAIN','co','FOR','THE','ac','OF','LOVE','IS','THE','ov','OF'.........\n"
   ]
  },
  {
   "cell_type": "markdown",
   "metadata": {
    "collapsed": true
   },
   "source": [
    "# Applying List Comprehension\n",
    "back on our cars.csv example"
   ]
  },
  {
   "cell_type": "code",
   "execution_count": null,
   "metadata": {
    "collapsed": true
   },
   "outputs": [],
   "source": [
    "###Exercise: calculate the average electricity consumption while driving in the city\n",
    "#Using list comprehension"
   ]
  },
  {
   "cell_type": "code",
   "execution_count": null,
   "metadata": {
    "collapsed": true
   },
   "outputs": [],
   "source": [
    "##Exercise2: count how many different brands of cars there are, and print out all the different brands once\n",
    "#Using list comprehension"
   ]
  },
  {
   "cell_type": "markdown",
   "metadata": {},
   "source": [
    "the __zip__ keyword"
   ]
  },
  {
   "cell_type": "code",
   "execution_count": 16,
   "metadata": {
    "collapsed": true
   },
   "outputs": [
    {
     "name": "stdout",
     "output_type": "stream",
     "text": [
      "11 minus 1 equals to 10\n",
      "12 minus 2 equals to 10\n",
      "13 minus 3 equals to 10\n",
      "14 minus 4 equals to 10\n",
      "15 minus 5 equals to 10\n",
      "16 minus 6 equals to 10\n"
     ]
    }
   ],
   "source": [
    "A = [1,2,3,4,5,6]\n",
    "B = [11,12,13,14,15,16]\n",
    "for a,b in zip(A,B):\n",
    "    print(\"%i minus %i equals to %i\"%(b,a,b-a))"
   ]
  },
  {
   "cell_type": "markdown",
   "metadata": {},
   "source": [
    "zip is limited by the shortest list"
   ]
  },
  {
   "cell_type": "code",
   "execution_count": 18,
   "metadata": {
    "collapsed": true
   },
   "outputs": [
    {
     "name": "stdout",
     "output_type": "stream",
     "text": [
      "1 1\n",
      "1 2\n"
     ]
    }
   ],
   "source": [
    "C = [1,1]\n",
    "D = [1,2,3,4,5,6,7]\n",
    "for c,d in zip(C,D):\n",
    "    print(c,d)"
   ]
  },
  {
   "cell_type": "markdown",
   "metadata": {},
   "source": [
    "Using zip in list comprehension"
   ]
  },
  {
   "cell_type": "code",
   "execution_count": null,
   "metadata": {
    "collapsed": true
   },
   "outputs": [],
   "source": [
    "#return a list of the max element from each list for each index\n",
    "#use zip and list comprehension\n",
    "#eg: [2,44,100.....]\n",
    "E = [2,44,12,16,23,1]\n",
    "F = [0,1,100,12,14,2]"
   ]
  },
  {
   "cell_type": "markdown",
   "metadata": {},
   "source": [
    "# Lambda Functions: writing functions in 1 line"
   ]
  },
  {
   "cell_type": "markdown",
   "metadata": {},
   "source": [
    "lambda  __variable__  :  __returnValue__"
   ]
  },
  {
   "cell_type": "code",
   "execution_count": 11,
   "metadata": {
    "collapsed": true
   },
   "outputs": [
    {
     "data": {
      "text/plain": [
       "4"
      ]
     },
     "execution_count": 11,
     "metadata": {},
     "output_type": "execute_result"
    }
   ],
   "source": [
    "a = lambda x: x*2\n",
    "a(2)"
   ]
  },
  {
   "cell_type": "code",
   "execution_count": 12,
   "metadata": {
    "collapsed": true
   },
   "outputs": [
    {
     "data": {
      "text/plain": [
       "5"
      ]
     },
     "execution_count": 12,
     "metadata": {},
     "output_type": "execute_result"
    }
   ],
   "source": [
    "b = lambda x,y: x+y\n",
    "b(2,3)"
   ]
  },
  {
   "cell_type": "code",
   "execution_count": null,
   "metadata": {
    "collapsed": true
   },
   "outputs": [],
   "source": [
    "#Exercise: write a lambda function that returns the product of two numbers\n"
   ]
  }
 ],
 "metadata": {
  "anaconda-cloud": {},
  "kernelspec": {
   "display_name": "Python 3",
   "language": "python",
   "name": "python3"
  },
  "language_info": {
   "codemirror_mode": {
    "name": "ipython",
    "version": 3
   },
   "file_extension": ".py",
   "mimetype": "text/x-python",
   "name": "python",
   "nbconvert_exporter": "python",
   "pygments_lexer": "ipython3",
   "version": "3.6.0"
  }
 },
 "nbformat": 4,
 "nbformat_minor": 0
}
